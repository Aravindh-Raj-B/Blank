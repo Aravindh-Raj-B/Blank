{
  "nbformat": 4,
  "nbformat_minor": 0,
  "metadata": {
    "colab": {
      "provenance": [],
      "gpuType": "T4"
    },
    "kernelspec": {
      "name": "python3",
      "display_name": "Python 3"
    },
    "language_info": {
      "name": "python"
    },
    "accelerator": "GPU"
  },
  "cells": [
    {
      "cell_type": "code",
      "execution_count": null,
      "metadata": {
        "colab": {
          "base_uri": "https://localhost:8080/"
        },
        "id": "g9KikELChGb4",
        "outputId": "3574254b-72a4-4720-bc3f-d043bdb2c563"
      },
      "outputs": [
        {
          "output_type": "stream",
          "name": "stdout",
          "text": [
            "GPU Information:\n",
            "GPU Device Name: /device:GPU:0\n",
            "['Mon Feb  5 13:57:28 2024       ', '+---------------------------------------------------------------------------------------+', '| NVIDIA-SMI 535.104.05             Driver Version: 535.104.05   CUDA Version: 12.2     |', '|-----------------------------------------+----------------------+----------------------+', '| GPU  Name                 Persistence-M | Bus-Id        Disp.A | Volatile Uncorr. ECC |', '| Fan  Temp   Perf          Pwr:Usage/Cap |         Memory-Usage | GPU-Util  Compute M. |', '|                                         |                      |               MIG M. |', '|=========================================+======================+======================|', '|   0  Tesla T4                       Off | 00000000:00:04.0 Off |                    0 |', '| N/A   39C    P0              24W /  70W |    103MiB / 15360MiB |      0%      Default |', '|                                         |                      |                  N/A |', '+-----------------------------------------+----------------------+----------------------+', '                                                                                         ', '+---------------------------------------------------------------------------------------+', '| Processes:                                                                            |', '|  GPU   GI   CI        PID   Type   Process name                            GPU Memory |', '|        ID   ID                                                             Usage      |', '|=======================================================================================|', '+---------------------------------------------------------------------------------------+']\n"
          ]
        }
      ],
      "source": [
        "# Check for GPU availability and details in Google Colab\n",
        "import tensorflow as tf\n",
        "\n",
        "# Check if a GPU is available\n",
        "gpu_available = tf.config.list_physical_devices('GPU')\n",
        "\n",
        "if gpu_available:\n",
        "    # Print GPU details\n",
        "    device_name = tf.test.gpu_device_name()\n",
        "    gpu_info = !nvidia-smi\n",
        "    print(\"GPU Information:\")\n",
        "    print(f\"GPU Device Name: {device_name}\")\n",
        "    print(gpu_info)\n",
        "else:\n",
        "    print(\"No GPU available in this Colab instance.\")\n"
      ]
    },
    {
      "cell_type": "code",
      "source": [
        "!nvidia-smi\n"
      ],
      "metadata": {
        "id": "WRwIu6JwhfU7",
        "colab": {
          "base_uri": "https://localhost:8080/"
        },
        "outputId": "384a3fba-025b-48cb-867e-59d0aae45002"
      },
      "execution_count": null,
      "outputs": [
        {
          "output_type": "stream",
          "name": "stdout",
          "text": [
            "Mon Feb  5 13:58:19 2024       \n",
            "+---------------------------------------------------------------------------------------+\n",
            "| NVIDIA-SMI 535.104.05             Driver Version: 535.104.05   CUDA Version: 12.2     |\n",
            "|-----------------------------------------+----------------------+----------------------+\n",
            "| GPU  Name                 Persistence-M | Bus-Id        Disp.A | Volatile Uncorr. ECC |\n",
            "| Fan  Temp   Perf          Pwr:Usage/Cap |         Memory-Usage | GPU-Util  Compute M. |\n",
            "|                                         |                      |               MIG M. |\n",
            "|=========================================+======================+======================|\n",
            "|   0  Tesla T4                       Off | 00000000:00:04.0 Off |                    0 |\n",
            "| N/A   45C    P0              25W /  70W |    103MiB / 15360MiB |      0%      Default |\n",
            "|                                         |                      |                  N/A |\n",
            "+-----------------------------------------+----------------------+----------------------+\n",
            "                                                                                         \n",
            "+---------------------------------------------------------------------------------------+\n",
            "| Processes:                                                                            |\n",
            "|  GPU   GI   CI        PID   Type   Process name                            GPU Memory |\n",
            "|        ID   ID                                                             Usage      |\n",
            "|=======================================================================================|\n",
            "+---------------------------------------------------------------------------------------+\n"
          ]
        }
      ]
    },
    {
      "cell_type": "code",
      "source": [
        "import os\n",
        "HOME = os.getcwd()\n",
        "print(HOME)"
      ],
      "metadata": {
        "colab": {
          "base_uri": "https://localhost:8080/"
        },
        "id": "i1s0tBbDhn05",
        "outputId": "dd0ee69a-a886-429d-cb0e-8e950be1d048"
      },
      "execution_count": null,
      "outputs": [
        {
          "output_type": "stream",
          "name": "stdout",
          "text": [
            "/content\n"
          ]
        }
      ]
    },
    {
      "cell_type": "code",
      "source": [
        "# Check for GPU availability and details in Google Colab\n",
        "import tensorflow as tf\n",
        "\n",
        "# Check if a GPU is available\n",
        "gpu_available = tf.config.list_physical_devices('GPU')\n",
        "\n",
        "if gpu_available:\n",
        "    # Print GPU details\n",
        "    gpu_info = !nvidia-smi\n",
        "    print(\"GPU Information:\")\n",
        "    print(gpu_info)\n",
        "else:\n",
        "    print(\"No GPU available in this Colab instance.\")\n"
      ],
      "metadata": {
        "colab": {
          "base_uri": "https://localhost:8080/"
        },
        "id": "O_EsnoMah5iG",
        "outputId": "74e81daa-412c-45ac-8be7-54d78094525c"
      },
      "execution_count": null,
      "outputs": [
        {
          "output_type": "stream",
          "name": "stdout",
          "text": [
            "No GPU available in this Colab instance.\n"
          ]
        }
      ]
    }
  ]
}